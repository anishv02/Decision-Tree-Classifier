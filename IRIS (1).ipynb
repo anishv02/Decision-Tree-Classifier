{
  "nbformat": 4,
  "nbformat_minor": 0,
  "metadata": {
    "colab": {
      "name": "IRIS.ipynb",
      "private_outputs": true,
      "provenance": [],
      "collapsed_sections": []
    },
    "kernelspec": {
      "name": "python3",
      "display_name": "Python 3"
    },
    "language_info": {
      "name": "python"
    }
  },
  "cells": [
    {
      "cell_type": "markdown",
      "metadata": {
        "id": "wo8s-zMvhAMp"
      },
      "source": [
        "**Prediction Using Decision Tree Algorithim**"
      ]
    },
    {
      "cell_type": "code",
      "metadata": {
        "id": "HAQtAhRte8Ab"
      },
      "source": [
        "import pandas as pd\n",
        "import matplotlib.pyplot as plt\n",
        "import seaborn as sns\n",
        "print('Setup Complete')"
      ],
      "execution_count": null,
      "outputs": []
    },
    {
      "cell_type": "code",
      "metadata": {
        "id": "Gp558i67g_J4"
      },
      "source": [
        "iris = 'https://raw.githubusercontent.com/kriti818/LetsGrowMore/main/iris.data'\n",
        "names = ['sepal-length', 'sepal-width', 'petal-length', 'petal-width', 'species']\n",
        "df = pd.read_csv(iris,names=names)\n",
        "df"
      ],
      "execution_count": null,
      "outputs": []
    },
    {
      "cell_type": "code",
      "metadata": {
        "id": "0r25Jwy4hf64"
      },
      "source": [
        "df.species.unique()"
      ],
      "execution_count": null,
      "outputs": []
    },
    {
      "cell_type": "code",
      "metadata": {
        "id": "-covfTZthxJ8"
      },
      "source": [
        "df.isnull().sum()"
      ],
      "execution_count": null,
      "outputs": []
    },
    {
      "cell_type": "code",
      "metadata": {
        "id": "ma_9_OJ9h6Az"
      },
      "source": [
        "df.groupby('species').size()"
      ],
      "execution_count": null,
      "outputs": []
    },
    {
      "cell_type": "markdown",
      "metadata": {
        "id": "TxPKd6nFiIaO"
      },
      "source": [
        "**The above results shows that there is no null value exist**"
      ]
    },
    {
      "cell_type": "markdown",
      "metadata": {
        "id": "KoU01UPrjxUh"
      },
      "source": [
        "**DATA VISUALIZATION**"
      ]
    },
    {
      "cell_type": "code",
      "metadata": {
        "id": "Y1-Ix_2UiCA_"
      },
      "source": [
        "plt.figure(figsize = (10,6))\n",
        "sns.boxplot(data = df,width = 0.5)"
      ],
      "execution_count": null,
      "outputs": []
    },
    {
      "cell_type": "code",
      "metadata": {
        "id": "U4b5_Lk1kFKz"
      },
      "source": [
        "plt.figure(figsize=(15,10))\n",
        "plt.subplot(2,2,1)\n",
        "sns.barplot(x = 'species', y = 'sepal-length', data=df)\n",
        "plt.subplot(2,2,2)\n",
        "sns.barplot(x = 'species', y = 'sepal-width', data=df)\n",
        "plt.subplot(2,2,3)\n",
        "sns.barplot(x = 'species', y = 'petal-length', data=df)\n",
        "plt.subplot(2,2,4)\n",
        "sns.barplot(x = 'species', y = 'petal-width', data=df)"
      ],
      "execution_count": null,
      "outputs": []
    },
    {
      "cell_type": "code",
      "metadata": {
        "id": "-VejwFMJlEgR"
      },
      "source": [
        "X = df.drop('species',axis=1)\n",
        "y = df.species"
      ],
      "execution_count": null,
      "outputs": []
    },
    {
      "cell_type": "markdown",
      "metadata": {
        "id": "2BFbCtBDpxlH"
      },
      "source": [
        "Importing the Train_Test_Split method to train and test out data"
      ]
    },
    {
      "cell_type": "code",
      "metadata": {
        "id": "1AkVwcl4l8rF"
      },
      "source": [
        "from sklearn.model_selection import train_test_split\n",
        "X_train,X_test,y_train,y_test=train_test_split(X,y,test_size=0.2,random_state=10)"
      ],
      "execution_count": null,
      "outputs": []
    },
    {
      "cell_type": "markdown",
      "metadata": {
        "id": "b3XbFvJ-1vTs"
      },
      "source": [
        "Importing the DecisionTreeClassifier from the sklearn Library"
      ]
    },
    {
      "cell_type": "code",
      "metadata": {
        "id": "xNgKyasbmN__"
      },
      "source": [
        "from sklearn.tree import DecisionTreeClassifier\n",
        "model = DecisionTreeClassifier()\n",
        "x = model.fit(X_train,y_train)"
      ],
      "execution_count": null,
      "outputs": []
    },
    {
      "cell_type": "code",
      "metadata": {
        "id": "4pi_J1IWpOwD"
      },
      "source": [
        "print('Test Accuracy is: ', model.score(X_test,y_test)*100)"
      ],
      "execution_count": null,
      "outputs": []
    },
    {
      "cell_type": "code",
      "metadata": {
        "id": "yjdtFroHpQoM"
      },
      "source": [
        "#Vizualizing the Decision Tree\n",
        "from sklearn import tree\n",
        "plt.figure(figsize=(16,10))\n",
        "tree.plot_tree(x,filled=True)"
      ],
      "execution_count": null,
      "outputs": []
    },
    {
      "cell_type": "code",
      "metadata": {
        "id": "3crGcF1s1CHs"
      },
      "source": [
        ""
      ],
      "execution_count": null,
      "outputs": []
    }
  ]
}